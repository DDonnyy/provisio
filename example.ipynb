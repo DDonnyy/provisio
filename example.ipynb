{
 "cells": [
  {
   "cell_type": "code",
   "execution_count": 1,
   "outputs": [
    {
     "ename": "TypeError",
     "evalue": "an integer is required",
     "output_type": "error",
     "traceback": [
      "\u001B[1;31m---------------------------------------------------------------------------\u001B[0m",
      "\u001B[1;31mTypeError\u001B[0m                                 Traceback (most recent call last)",
      "Cell \u001B[1;32mIn[1], line 9\u001B[0m\n\u001B[0;32m      6\u001B[0m gdf_services \u001B[38;5;241m=\u001B[39m gpd\u001B[38;5;241m.\u001B[39mread_file(\u001B[38;5;124m\"\u001B[39m\u001B[38;5;124mtara_kinder.geojson\u001B[39m\u001B[38;5;124m\"\u001B[39m)\n\u001B[0;32m      7\u001B[0m graph: nx\u001B[38;5;241m.\u001B[39mMultiDiGraph \u001B[38;5;241m=\u001B[39m nx\u001B[38;5;241m.\u001B[39mread_graphml(\u001B[38;5;124m\"\u001B[39m\u001B[38;5;124mТара.graphml\u001B[39m\u001B[38;5;124m\"\u001B[39m)\n\u001B[0;32m      8\u001B[0m gpd\u001B[38;5;241m.\u001B[39mGeoDataFrame(\n\u001B[1;32m----> 9\u001B[0m         \u001B[43mCityProvision\u001B[49m\u001B[43m(\u001B[49m\n\u001B[0;32m     10\u001B[0m \u001B[43m            \u001B[49m\u001B[43mcity_crs\u001B[49m\u001B[38;5;241;43m=\u001B[39;49m\u001B[38;5;241;43m32636\u001B[39;49m\u001B[43m,\u001B[49m\n\u001B[0;32m     11\u001B[0m \u001B[43m            \u001B[49m\u001B[43mservice_type\u001B[49m\u001B[38;5;241;43m=\u001B[39;49m\u001B[38;5;124;43m\"\u001B[39;49m\u001B[38;5;124;43mkindergartens\u001B[39;49m\u001B[38;5;124;43m\"\u001B[39;49m\u001B[43m,\u001B[49m\n\u001B[0;32m     12\u001B[0m \u001B[43m            \u001B[49m\u001B[43mservices\u001B[49m\u001B[38;5;241;43m=\u001B[39;49m\u001B[43mgdf_services\u001B[49m\u001B[43m,\u001B[49m\n\u001B[0;32m     13\u001B[0m \u001B[43m            \u001B[49m\u001B[43mdemanded_buildings\u001B[49m\u001B[38;5;241;43m=\u001B[39;49m\u001B[43mgdf_demanded_buildings\u001B[49m\u001B[43m,\u001B[49m\n\u001B[0;32m     14\u001B[0m \u001B[43m            \u001B[49m\u001B[43mvaluation_type\u001B[49m\u001B[38;5;241;43m=\u001B[39;49m\u001B[38;5;124;43m\"\u001B[39;49m\u001B[38;5;124;43mmodel\u001B[39;49m\u001B[38;5;124;43m\"\u001B[39;49m\u001B[43m,\u001B[49m\n\u001B[0;32m     15\u001B[0m \u001B[43m            \u001B[49m\u001B[43mintermodal_nx_graph\u001B[49m\u001B[38;5;241;43m=\u001B[39;49m\u001B[43mgraph\u001B[49m\u001B[43m,\u001B[49m\n\u001B[0;32m     16\u001B[0m \u001B[43m            \u001B[49m\u001B[43mnormative_radius\u001B[49m\u001B[38;5;241;43m=\u001B[39;49m\u001B[38;5;241;43m300\u001B[39;49m\u001B[43m,\u001B[49m\n\u001B[0;32m     17\u001B[0m \u001B[43m        \u001B[49m\u001B[43m)\u001B[49m\u001B[38;5;241m.\u001B[39mget_provisions()[\u001B[38;5;124m\"\u001B[39m\u001B[38;5;124mprovision\u001B[39m\u001B[38;5;124m\"\u001B[39m]\n\u001B[0;32m     18\u001B[0m     )\u001B[38;5;241m.\u001B[39mto_file(\u001B[38;5;124m\"\u001B[39m\u001B[38;5;124mresult.geojson\u001B[39m\u001B[38;5;124m\"\u001B[39m)\n",
      "File \u001B[1;32mD:\\ItmoProjects\\provisio_lib\\city_provision\\provision.py:56\u001B[0m, in \u001B[0;36mCityProvision.__init__\u001B[1;34m(self, city_crs, service_type, services, demanded_buildings, valuation_type, intermodal_nx_graph, normative_time, normative_radius, user_selection_zone, return_jsons, calculation_type)\u001B[0m\n\u001B[0;32m     54\u001B[0m \u001B[38;5;28;01melse\u001B[39;00m:\n\u001B[0;32m     55\u001B[0m     \u001B[38;5;28;01mif\u001B[39;00m normative_radius:\n\u001B[1;32m---> 56\u001B[0m         \u001B[38;5;28mself\u001B[39m\u001B[38;5;241m.\u001B[39mgraph \u001B[38;5;241m=\u001B[39m \u001B[43mconvert_nx2nk\u001B[49m\u001B[43m(\u001B[49m\n\u001B[0;32m     57\u001B[0m \u001B[43m            \u001B[49m\u001B[43mmobility_sub_graph\u001B[49m\u001B[43m,\u001B[49m\n\u001B[0;32m     58\u001B[0m \u001B[43m            \u001B[49m\u001B[43midmap\u001B[49m\u001B[38;5;241;43m=\u001B[39;49m\u001B[43mget_nx2nk_idmap\u001B[49m\u001B[43m(\u001B[49m\u001B[43mmobility_sub_graph\u001B[49m\u001B[43m)\u001B[49m\u001B[43m,\u001B[49m\n\u001B[0;32m     59\u001B[0m \u001B[43m            \u001B[49m\u001B[43mweight\u001B[49m\u001B[38;5;241;43m=\u001B[39;49m\u001B[38;5;124;43m\"\u001B[39;49m\u001B[38;5;124;43mlength_meter\u001B[39;49m\u001B[38;5;124;43m\"\u001B[39;49m\u001B[43m,\u001B[49m\n\u001B[0;32m     60\u001B[0m \u001B[43m        \u001B[49m\u001B[43m)\u001B[49m\n\u001B[0;32m     61\u001B[0m         \u001B[38;5;28mself\u001B[39m\u001B[38;5;241m.\u001B[39mnormative \u001B[38;5;241m=\u001B[39m normative_radius\n\u001B[0;32m     62\u001B[0m     \u001B[38;5;28;01melse\u001B[39;00m:\n",
      "File \u001B[1;32mD:\\ItmoProjects\\provisio_lib\\city_provision\\utils.py:61\u001B[0m, in \u001B[0;36mconvert_nx2nk\u001B[1;34m(G_nx, idmap, weight)\u001B[0m\n\u001B[0;32m     59\u001B[0m         w \u001B[38;5;241m=\u001B[39m \u001B[38;5;28mround\u001B[39m(d_[weight], \u001B[38;5;241m1\u001B[39m) \u001B[38;5;28;01mif\u001B[39;00m weight \u001B[38;5;129;01min\u001B[39;00m d_ \u001B[38;5;28;01melse\u001B[39;00m \u001B[38;5;241m1\u001B[39m\n\u001B[0;32m     60\u001B[0m         G_nk\u001B[38;5;241m.\u001B[39maddEdge(u, v, w)\n\u001B[1;32m---> 61\u001B[0m         \u001B[43mG_nk\u001B[49m\u001B[38;5;241;43m.\u001B[39;49m\u001B[43maddEdge\u001B[49m\u001B[43m(\u001B[49m\u001B[43mu_\u001B[49m\u001B[43m,\u001B[49m\u001B[43m \u001B[49m\u001B[43mu__\u001B[49m\u001B[43m,\u001B[49m\u001B[43m \u001B[49m\u001B[38;5;241;43m0\u001B[39;49m\u001B[43m,\u001B[49m\u001B[43m \u001B[49m\u001B[43maddMissing\u001B[49m\u001B[38;5;241;43m=\u001B[39;49m\u001B[38;5;28;43;01mTrue\u001B[39;49;00m\u001B[43m)\u001B[49m\n\u001B[0;32m     62\u001B[0m         G_nk\u001B[38;5;241m.\u001B[39maddEdge(v_, v__, \u001B[38;5;241m0\u001B[39m, addMissing\u001B[38;5;241m=\u001B[39m\u001B[38;5;28;01mTrue\u001B[39;00m)\n\u001B[0;32m     63\u001B[0m \u001B[38;5;28;01melse\u001B[39;00m:\n",
      "File \u001B[1;32m~\\AppData\\Local\\pypoetry\\Cache\\virtualenvs\\provisio-lib-xvPen8F7-py3.11\\Lib\\site-packages\\networkit\\graph.pyx:410\u001B[0m, in \u001B[0;36mnetworkit.graph.Graph.addEdge\u001B[1;34m()\u001B[0m\n",
      "\u001B[1;31mTypeError\u001B[0m: an integer is required"
     ]
    }
   ],
   "source": [
    "\n",
    "import networkx as nx\n",
    "from city_provision.provision import CityProvision\n",
    "import geopandas as gpd\n",
    "\n",
    "gdf_demanded_buildings = gpd.read_file(\"buildings.geojson\")\n",
    "gdf_services = gpd.read_file(\"tara_kinder.geojson\")\n",
    "graph: nx.MultiDiGraph = nx.read_graphml(\"Тара.graphml\")\n",
    "gpd.GeoDataFrame(\n",
    "        CityProvision(\n",
    "            city_crs=32636,\n",
    "            service_type=\"kindergartens\",\n",
    "            services=gdf_services,\n",
    "            demanded_buildings=gdf_demanded_buildings,\n",
    "            valuation_type=\"model\",\n",
    "            intermodal_nx_graph=graph,\n",
    "            normative_radius=300,\n",
    "        ).get_provisions()[\"provision\"]\n",
    "    ).to_file(\"result.geojson\")"
   ],
   "metadata": {
    "collapsed": false,
    "ExecuteTime": {
     "end_time": "2024-02-08T16:53:28.818344300Z",
     "start_time": "2024-02-08T16:53:26.785944800Z"
    }
   },
   "id": "fd4ba506396bbc4e"
  },
  {
   "cell_type": "code",
   "execution_count": null,
   "outputs": [],
   "source": [],
   "metadata": {
    "collapsed": false
   },
   "id": "803ea87a0a286729"
  }
 ],
 "metadata": {
  "kernelspec": {
   "display_name": "Python 3",
   "language": "python",
   "name": "python3"
  },
  "language_info": {
   "codemirror_mode": {
    "name": "ipython",
    "version": 2
   },
   "file_extension": ".py",
   "mimetype": "text/x-python",
   "name": "python",
   "nbconvert_exporter": "python",
   "pygments_lexer": "ipython2",
   "version": "2.7.6"
  }
 },
 "nbformat": 4,
 "nbformat_minor": 5
}
